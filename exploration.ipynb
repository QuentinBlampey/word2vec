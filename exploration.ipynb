{
 "cells": [
  {
   "cell_type": "code",
   "execution_count": 1,
   "metadata": {},
   "outputs": [],
   "source": [
    "import numpy as np"
   ]
  },
  {
   "cell_type": "code",
   "execution_count": 2,
   "metadata": {},
   "outputs": [],
   "source": [
    "def softmax(array):\n",
    "    array = np.exp(array)\n",
    "    return array / np.sum(array)\n",
    "\n",
    "class Word2Vec():\n",
    "    def __init__(self, vocab, embedding_size, learning_rate=1.):\n",
    "        self.vocab = vocab\n",
    "        self.embedding_size = embedding_size\n",
    "        self.learning_rate = learning_rate\n",
    "        \n",
    "        self.vocab_size = len(self.vocab)\n",
    "        self.word_to_index = { word: i for i, word in enumerate(self.vocab)}\n",
    "        self.index_to_word = { i: word for word, i in self.word_to_index.items()}\n",
    "        \n",
    "        self.embedding = np.random.randn(self.vocab_size, self.embedding_size)\n",
    "        self.linear = np.random.randn(self.embedding_size, self.vocab_size)\n",
    "        \n",
    "    def one_hot_encod(self, index):\n",
    "        one_hot = np.zeros(self.vocab_size)\n",
    "        one_hot[index] = 1\n",
    "        return one_hot\n",
    "    \n",
    "    def forward(self, index):\n",
    "        emb = self.embedding[index,:]\n",
    "        return emb, softmax(emb @ self.linear)\n",
    "    \n",
    "    def criterion(self, y, output):\n",
    "        return -1/self.vocab_size*np.inner(y, np.log(output))\n",
    "    \n",
    "    def step(self, input_index, output_index):\n",
    "        y = self.one_hot_encod(output_index)\n",
    "        emb, output = self.forward(input_index)\n",
    "\n",
    "        loss = self.criterion(y, output)\n",
    "        print(f\"Loss - {loss:.3f}\")\n",
    "\n",
    "        dL_dx = 1/self.vocab_size*(output-y)\n",
    "\n",
    "        grad_linear = np.outer(emb, dL_dx)\n",
    "        self.linear -= self.learning_rate*grad_linear\n",
    "\n",
    "        grad_embedding = self.linear @ dL_dx\n",
    "        self.embedding[input_index,:] -= self.learning_rate*grad_embedding"
   ]
  },
  {
   "cell_type": "code",
   "execution_count": 3,
   "metadata": {},
   "outputs": [],
   "source": [
    "words = ['the', 'quick', 'brown', 'fox', 'jumps', 'over', 'the', 'lazy', 'dog']\n",
    "vocab = set(words)\n",
    "embedding_size = 10\n",
    "\n",
    "word2vec = Word2Vec(vocab, embedding_size)"
   ]
  },
  {
   "cell_type": "markdown",
   "metadata": {},
   "source": [
    "## Backward\n",
    "This is the forward graph\n",
    "```\n",
    "embedding --(@ linear)--> x --(softmax)--> o --(criterion)--> loss\n",
    "```"
   ]
  },
  {
   "cell_type": "markdown",
   "metadata": {},
   "source": [
    "Gradient descent step"
   ]
  },
  {
   "cell_type": "code",
   "execution_count": 4,
   "metadata": {},
   "outputs": [
    {
     "name": "stdout",
     "output_type": "stream",
     "text": [
      "Loss - 0.882\n",
      "Loss - 0.518\n",
      "Loss - 0.237\n",
      "Loss - 0.078\n",
      "Loss - 0.035\n",
      "Loss - 0.022\n",
      "Loss - 0.016\n",
      "Loss - 0.012\n",
      "Loss - 0.010\n",
      "Loss - 0.008\n",
      "Loss - 0.007\n",
      "Loss - 0.006\n",
      "Loss - 0.006\n",
      "Loss - 0.005\n",
      "Loss - 0.005\n",
      "Loss - 0.004\n",
      "Loss - 0.004\n",
      "Loss - 0.004\n",
      "Loss - 0.003\n",
      "Loss - 0.003\n"
     ]
    },
    {
     "data": {
      "text/plain": [
       "array([4.00139550e-03, 9.75727517e-01, 1.08158542e-03, 3.72763238e-03,\n",
       "       6.02102315e-03, 7.69673623e-03, 1.68083013e-03, 6.32796903e-05])"
      ]
     },
     "execution_count": 4,
     "metadata": {},
     "output_type": "execute_result"
    }
   ],
   "source": [
    "input_index, output_index = 4, 1\n",
    "\n",
    "for _ in range(20):\n",
    "    word2vec.step(input_index, output_index)\n",
    "_, output = word2vec.forward(input_index)\n",
    "output"
   ]
  },
  {
   "cell_type": "markdown",
   "metadata": {},
   "source": [
    "It learns very well!"
   ]
  },
  {
   "cell_type": "code",
   "execution_count": null,
   "metadata": {},
   "outputs": [],
   "source": []
  }
 ],
 "metadata": {
  "kernelspec": {
   "display_name": "Python 3",
   "language": "python",
   "name": "python3"
  },
  "language_info": {
   "codemirror_mode": {
    "name": "ipython",
    "version": 3
   },
   "file_extension": ".py",
   "mimetype": "text/x-python",
   "name": "python",
   "nbconvert_exporter": "python",
   "pygments_lexer": "ipython3",
   "version": "3.7.6"
  }
 },
 "nbformat": 4,
 "nbformat_minor": 4
}
