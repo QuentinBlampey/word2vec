{
 "cells": [
  {
   "cell_type": "code",
   "execution_count": 1,
   "metadata": {},
   "outputs": [],
   "source": [
    "from word2vec import *"
   ]
  },
  {
   "cell_type": "code",
   "execution_count": 2,
   "metadata": {},
   "outputs": [],
   "source": [
    "words = ['the', 'quick', 'brown', 'fox', 'jumps', 'over', 'the', 'lazy', 'dog']\n",
    "vocab = set(words)\n",
    "embedding_size = 10\n",
    "\n",
    "word2vec = Word2Vec(vocab, embedding_size)"
   ]
  },
  {
   "cell_type": "markdown",
   "metadata": {},
   "source": [
    "## Backward\n",
    "This is the forward graph\n",
    "```\n",
    "embedding --(@ linear)--> x --(softmax)--> o --(criterion)--> loss\n",
    "```"
   ]
  },
  {
   "cell_type": "markdown",
   "metadata": {},
   "source": [
    "Gradient descent step"
   ]
  },
  {
   "cell_type": "code",
   "execution_count": 3,
   "metadata": {},
   "outputs": [
    {
     "name": "stdout",
     "output_type": "stream",
     "text": [
      "Loss - 1.206\n",
      "Loss - 0.788\n",
      "Loss - 0.472\n",
      "Loss - 0.225\n",
      "Loss - 0.080\n",
      "Loss - 0.036\n",
      "Loss - 0.023\n",
      "Loss - 0.017\n",
      "Loss - 0.013\n",
      "Loss - 0.011\n",
      "Loss - 0.009\n",
      "Loss - 0.008\n",
      "Loss - 0.007\n",
      "Loss - 0.006\n",
      "Loss - 0.006\n",
      "Loss - 0.005\n",
      "Loss - 0.005\n",
      "Loss - 0.004\n",
      "Loss - 0.004\n",
      "Loss - 0.004\n"
     ]
    },
    {
     "data": {
      "text/plain": [
       "array([3.44650667e-03, 9.72332704e-01, 5.55491309e-03, 4.73745916e-03,\n",
       "       7.21280904e-03, 2.88353822e-03, 3.35513047e-04, 3.49655686e-03])"
      ]
     },
     "execution_count": 3,
     "metadata": {},
     "output_type": "execute_result"
    }
   ],
   "source": [
    "input_index, output_index = 4, 1\n",
    "\n",
    "for _ in range(20):\n",
    "    word2vec.step(input_index, output_index)\n",
    "_, output = word2vec.forward(input_index)\n",
    "output"
   ]
  },
  {
   "cell_type": "markdown",
   "metadata": {},
   "source": [
    "It learns very well!"
   ]
  }
 ],
 "metadata": {
  "kernelspec": {
   "display_name": "Python 3",
   "language": "python",
   "name": "python3"
  },
  "language_info": {
   "codemirror_mode": {
    "name": "ipython",
    "version": 3
   },
   "file_extension": ".py",
   "mimetype": "text/x-python",
   "name": "python",
   "nbconvert_exporter": "python",
   "pygments_lexer": "ipython3",
   "version": "3.8.3"
  }
 },
 "nbformat": 4,
 "nbformat_minor": 4
}
