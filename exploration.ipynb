{
 "cells": [
  {
   "cell_type": "code",
   "execution_count": 17,
   "metadata": {},
   "outputs": [],
   "source": [
    "import numpy as np"
   ]
  },
  {
   "cell_type": "code",
   "execution_count": 18,
   "metadata": {},
   "outputs": [],
   "source": [
    "words = ['the', 'quick', 'brown', 'fox', 'jumps', 'over', 'the', 'lazy', 'dog']\n",
    "vocab = set(words)\n",
    "vocab_size = len(vocab)\n",
    "embedding_size = 10"
   ]
  },
  {
   "cell_type": "code",
   "execution_count": 19,
   "metadata": {},
   "outputs": [],
   "source": [
    "word_to_index = { word: i for i, word in enumerate(vocab)}\n",
    "index_to_word = { i: word for word, i in word_to_index.items()}"
   ]
  },
  {
   "cell_type": "code",
   "execution_count": 20,
   "metadata": {},
   "outputs": [],
   "source": [
    "embedding = np.random.randn(vocab_size, embedding_size)\n",
    "linear = np.random.randn(embedding_size, vocab_size)"
   ]
  },
  {
   "cell_type": "code",
   "execution_count": 21,
   "metadata": {},
   "outputs": [],
   "source": [
    "def one_hot_encod(index):\n",
    "    one_hot = np.zeros(vocab_size)\n",
    "    one_hot[index] = 1\n",
    "    return one_hot"
   ]
  },
  {
   "cell_type": "code",
   "execution_count": 22,
   "metadata": {},
   "outputs": [],
   "source": [
    "def softmax(array):\n",
    "    array = np.exp(array)\n",
    "    return array / np.sum(array)"
   ]
  },
  {
   "cell_type": "code",
   "execution_count": 23,
   "metadata": {},
   "outputs": [],
   "source": [
    "def forward(index):\n",
    "    return softmax(embedding[index,:] @ linear)"
   ]
  },
  {
   "cell_type": "code",
   "execution_count": 24,
   "metadata": {},
   "outputs": [],
   "source": [
    "def criterion(y, output):\n",
    "    return -1/vocab_size*np.inner(y, np.log(output))"
   ]
  },
  {
   "cell_type": "code",
   "execution_count": 25,
   "metadata": {},
   "outputs": [
    {
     "data": {
      "text/plain": [
       "0.3671987876935347"
      ]
     },
     "execution_count": 25,
     "metadata": {},
     "output_type": "execute_result"
    }
   ],
   "source": [
    "index = 4\n",
    "y = one_hot_encod(index)\n",
    "o = forward(index)\n",
    "loss = criterion(y, o)\n",
    "loss"
   ]
  },
  {
   "cell_type": "markdown",
   "metadata": {},
   "source": [
    "## Backward\n",
    "This is the forward graph\n",
    "```\n",
    "embedding --(@ linear)--> x --(softmax)--> o --(criterion)--> loss\n",
    "```"
   ]
  },
  {
   "cell_type": "markdown",
   "metadata": {},
   "source": [
    "$L = -\\frac{1}{V}y^Tlog(o)$\n",
    "\n",
    "$\\frac{\\partial L}{\\partial o} = -\\frac{1}{V} y / o$ (term by term division)"
   ]
  },
  {
   "cell_type": "code",
   "execution_count": 26,
   "metadata": {},
   "outputs": [
    {
     "data": {
      "text/plain": [
       "array([-0.        , -0.        , -0.        , -0.        , -2.35878996,\n",
       "       -0.        , -0.        , -0.        ])"
      ]
     },
     "execution_count": 26,
     "metadata": {},
     "output_type": "execute_result"
    }
   ],
   "source": [
    "dL_do = - 1/vocab_size*y/o\n",
    "dL_do"
   ]
  },
  {
   "cell_type": "markdown",
   "metadata": {},
   "source": [
    "Computing $\\frac{\\partial L}{\\partial x} = \\frac{\\partial L}{\\partial o}\\frac{\\partial o}{\\partial x}$ leads to a lot of simplifications...\n",
    "\n",
    "$\\frac{\\partial L}{\\partial x} = \\frac{1}{V} (o-y)$"
   ]
  },
  {
   "cell_type": "code",
   "execution_count": 27,
   "metadata": {},
   "outputs": [
    {
     "data": {
      "text/plain": [
       "array([ 0.0075362 ,  0.00585483,  0.00417056,  0.01973817, -0.11837584,\n",
       "        0.01104708,  0.05633672,  0.01369228])"
      ]
     },
     "execution_count": 27,
     "metadata": {},
     "output_type": "execute_result"
    }
   ],
   "source": [
    "dL_dx = 1/vocab_size*(o-y)\n",
    "dL_dx"
   ]
  },
  {
   "cell_type": "code",
   "execution_count": 28,
   "metadata": {},
   "outputs": [
    {
     "data": {
      "text/plain": [
       "array([-0.06941078, -0.34673677, -0.10697694, -0.23240771,  0.19650469,\n",
       "        0.09956768, -0.09942405, -0.02107459, -0.03876713,  0.03872456])"
      ]
     },
     "execution_count": 28,
     "metadata": {},
     "output_type": "execute_result"
    }
   ],
   "source": [
    "dL_de = linear @ dL_dx\n",
    "dL_de"
   ]
  },
  {
   "cell_type": "markdown",
   "metadata": {},
   "source": [
    "Gradient descent step"
   ]
  },
  {
   "cell_type": "code",
   "execution_count": 29,
   "metadata": {},
   "outputs": [],
   "source": [
    "learning_rate = 1e-3\n",
    "\n",
    "embedding[index,:] -= learning_rate*dL_de"
   ]
  },
  {
   "cell_type": "code",
   "execution_count": 30,
   "metadata": {},
   "outputs": [],
   "source": [
    "def step(index, learning_rate=1.):\n",
    "    y = one_hot_encod(index)\n",
    "    o = forward(index)\n",
    "    \n",
    "    loss = criterion(y, o)\n",
    "    print(f\"Loss - {loss:.3f}\")\n",
    "    \n",
    "    grad = linear @ (o-y) / vocab_size\n",
    "    embedding[index,:] -= learning_rate*grad"
   ]
  },
  {
   "cell_type": "code",
   "execution_count": 31,
   "metadata": {},
   "outputs": [
    {
     "name": "stdout",
     "output_type": "stream",
     "text": [
      "Loss - 0.367\n",
      "Loss - 0.144\n",
      "Loss - 0.051\n",
      "Loss - 0.028\n",
      "Loss - 0.019\n",
      "Loss - 0.015\n",
      "Loss - 0.012\n",
      "Loss - 0.010\n",
      "Loss - 0.009\n",
      "Loss - 0.008\n",
      "Loss - 0.007\n",
      "Loss - 0.006\n",
      "Loss - 0.006\n",
      "Loss - 0.005\n",
      "Loss - 0.005\n",
      "Loss - 0.004\n",
      "Loss - 0.004\n",
      "Loss - 0.004\n",
      "Loss - 0.004\n",
      "Loss - 0.003\n"
     ]
    },
    {
     "data": {
      "text/plain": [
       "array([5.89988700e-04, 2.54744803e-03, 4.96841740e-03, 3.22029883e-03,\n",
       "       9.74169910e-01, 7.97206092e-04, 9.90784411e-03, 3.79888652e-03])"
      ]
     },
     "execution_count": 31,
     "metadata": {},
     "output_type": "execute_result"
    }
   ],
   "source": [
    "for _ in range(20):\n",
    "    step(index)\n",
    "forward(index)"
   ]
  },
  {
   "cell_type": "markdown",
   "metadata": {},
   "source": [
    "It learns very well!"
   ]
  },
  {
   "cell_type": "code",
   "execution_count": null,
   "metadata": {},
   "outputs": [],
   "source": []
  }
 ],
 "metadata": {
  "kernelspec": {
   "display_name": "Python 3",
   "language": "python",
   "name": "python3"
  },
  "language_info": {
   "codemirror_mode": {
    "name": "ipython",
    "version": 3
   },
   "file_extension": ".py",
   "mimetype": "text/x-python",
   "name": "python",
   "nbconvert_exporter": "python",
   "pygments_lexer": "ipython3",
   "version": "3.7.6"
  }
 },
 "nbformat": 4,
 "nbformat_minor": 4
}
