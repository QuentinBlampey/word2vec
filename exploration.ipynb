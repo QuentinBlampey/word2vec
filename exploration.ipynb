{
 "cells": [
  {
   "cell_type": "code",
   "execution_count": 1,
   "metadata": {},
   "outputs": [],
   "source": [
    "from word2vec import *"
   ]
  },
  {
   "cell_type": "code",
   "execution_count": 2,
   "metadata": {},
   "outputs": [],
   "source": [
    "words = ['the', 'quick', 'brown', 'fox', 'jumps', 'over', 'the', 'lazy', 'dog']\n",
    "vocab = set(words)\n",
    "embedding_size = 10\n",
    "\n",
    "word2vec = Word2Vec(vocab, embedding_size)"
   ]
  },
  {
   "cell_type": "markdown",
   "metadata": {},
   "source": [
    "## Backward\n",
    "This is the forward graph\n",
    "```\n",
    "embedding --(@ linear)--> x --(softmax)--> o --(criterion)--> loss\n",
    "```"
   ]
  },
  {
   "cell_type": "markdown",
   "metadata": {},
   "source": [
    "Gradient descent step"
   ]
  },
  {
   "cell_type": "code",
   "execution_count": 3,
   "metadata": {},
   "outputs": [
    {
     "name": "stdout",
     "output_type": "stream",
     "text": [
      "Loss - 1.502\n",
      "Loss - 1.017\n",
      "Loss - 0.640\n",
      "Loss - 0.333\n",
      "Loss - 0.121\n",
      "Loss - 0.044\n",
      "Loss - 0.025\n",
      "Loss - 0.017\n",
      "Loss - 0.013\n",
      "Loss - 0.011\n",
      "Loss - 0.009\n",
      "Loss - 0.008\n",
      "Loss - 0.007\n",
      "Loss - 0.006\n",
      "Loss - 0.005\n",
      "Loss - 0.005\n",
      "Loss - 0.004\n",
      "Loss - 0.004\n",
      "Loss - 0.004\n",
      "Loss - 0.003\n"
     ]
    },
    {
     "data": {
      "text/plain": [
       "array([0.00118292, 0.97423206, 0.0012486 , 0.00118962, 0.00334013,\n",
       "       0.0024051 , 0.01362874, 0.00277284])"
      ]
     },
     "execution_count": 3,
     "metadata": {},
     "output_type": "execute_result"
    }
   ],
   "source": [
    "input_index, output_index = 4, 1\n",
    "\n",
    "for _ in range(20):\n",
    "    word2vec.step([input_index], output_index)\n",
    "_, output = word2vec.forward([input_index])\n",
    "output"
   ]
  },
  {
   "cell_type": "markdown",
   "metadata": {},
   "source": [
    "It learns very well!"
   ]
  },
  {
   "cell_type": "code",
   "execution_count": null,
   "metadata": {},
   "outputs": [],
   "source": []
  }
 ],
 "metadata": {
  "kernelspec": {
   "display_name": "Python 3",
   "language": "python",
   "name": "python3"
  },
  "language_info": {
   "codemirror_mode": {
    "name": "ipython",
    "version": 3
   },
   "file_extension": ".py",
   "mimetype": "text/x-python",
   "name": "python",
   "nbconvert_exporter": "python",
   "pygments_lexer": "ipython3",
   "version": "3.8.3"
  }
 },
 "nbformat": 4,
 "nbformat_minor": 4
}
